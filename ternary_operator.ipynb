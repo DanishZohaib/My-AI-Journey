{
 "cells": [
  {
   "cell_type": "code",
   "execution_count": 3,
   "metadata": {},
   "outputs": [
    {
     "name": "stdout",
     "output_type": "stream",
     "text": [
      "number is less than 10\n"
     ]
    }
   ],
   "source": [
    "# Short Hand If Else / Ternary Operators\n",
    "num: int = 9\n",
    "print(\"Number is greater than\" if num > 10 else \"number is less than 10\")"
   ]
  },
  {
   "cell_type": "code",
   "execution_count": 11,
   "metadata": {},
   "outputs": [
    {
     "name": "stdout",
     "output_type": "stream",
     "text": [
      "name0: Danish\n",
      "name1: Zohaib\n",
      "Asalam o Alaikum Bilal\n",
      "name2: Bilal\n",
      "name3: Arfeen\n"
     ]
    }
   ],
   "source": [
    "# Enumerated Function\n",
    "my_list = [\"Danish\",\"Zohaib\",\"Bilal\",\"Arfeen\"]\n",
    "for index, name in enumerate(my_list):\n",
    "    if my_list[index] == \"Bilal\":\n",
    "        print(\"Asalam o Alaikum Bilal\")\n",
    "    print(f\"name{index}: {name}\")"
   ]
  },
  {
   "cell_type": "code",
   "execution_count": null,
   "metadata": {},
   "outputs": [
    {
     "name": "stdout",
     "output_type": "stream",
     "text": [
      "name0: ali\n",
      "Assalamualaikum Abdullah\n",
      "name1: abdullah\n",
      "name2: aamir\n"
     ]
    }
   ],
   "source": [
    "names = [\"ali\", \"abdullah\",\"aamir\"]\n",
    "\n",
    "for index,name in enumerate(names):\n",
    "  \n",
    "    if names[index] == \"abdullah\":\n",
    "        print(\"Assalamualaikum Abdullah\")\n",
    "\n",
    "    print(f\"name{index}: {name}\")"
   ]
  }
 ],
 "metadata": {
  "kernelspec": {
   "display_name": "Python 3",
   "language": "python",
   "name": "python3"
  },
  "language_info": {
   "codemirror_mode": {
    "name": "ipython",
    "version": 3
   },
   "file_extension": ".py",
   "mimetype": "text/x-python",
   "name": "python",
   "nbconvert_exporter": "python",
   "pygments_lexer": "ipython3",
   "version": "3.13.2"
  }
 },
 "nbformat": 4,
 "nbformat_minor": 2
}
