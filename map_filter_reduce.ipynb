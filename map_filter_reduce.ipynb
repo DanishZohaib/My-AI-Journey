{
 "cells": [
  {
   "cell_type": "markdown",
   "metadata": {},
   "source": [
    "Map, Filter, Reduce Functions"
   ]
  },
  {
   "cell_type": "code",
   "execution_count": 3,
   "metadata": {},
   "outputs": [
    {
     "name": "stdout",
     "output_type": "stream",
     "text": [
      "my_list [1, 2, 3, 4, 5]\n",
      "new_list [1, 4, 9, 16, 25]\n"
     ]
    }
   ],
   "source": [
    "# Map\n",
    "\n",
    "my_list = [1,2,3,4,5]\n",
    "def squar(number: int):\n",
    "    return number * number\n",
    "\n",
    "new_list = list(map(squar, my_list))\n",
    "print(\"my_list\", my_list)\n",
    "print(\"new_list\",new_list)"
   ]
  },
  {
   "cell_type": "code",
   "execution_count": 2,
   "metadata": {},
   "outputs": [
    {
     "name": "stdout",
     "output_type": "stream",
     "text": [
      "numbers list [1, 2, 3, 4, 5, 6]\n",
      "filtered list [3, 4, 5, 6]\n"
     ]
    }
   ],
   "source": [
    "# Filter\n",
    "numbers = [1,2,3,4,5,6]\n",
    "def filter_function(number: int):\n",
    "    return number > 2\n",
    "\n",
    "filtered_list = list(filter(filter_function, numbers))\n",
    "print(\"numbers list\", numbers)\n",
    "print(\"filtered list\", filtered_list)\n"
   ]
  }
 ],
 "metadata": {
  "kernelspec": {
   "display_name": "Python 3",
   "language": "python",
   "name": "python3"
  },
  "language_info": {
   "codemirror_mode": {
    "name": "ipython",
    "version": 3
   },
   "file_extension": ".py",
   "mimetype": "text/x-python",
   "name": "python",
   "nbconvert_exporter": "python",
   "pygments_lexer": "ipython3",
   "version": "3.13.2"
  }
 },
 "nbformat": 4,
 "nbformat_minor": 2
}
