{
 "cells": [
  {
   "cell_type": "code",
   "execution_count": null,
   "metadata": {},
   "outputs": [
    {
     "name": "stdout",
     "output_type": "stream",
     "text": [
      "2\n"
     ]
    }
   ],
   "source": [
    "import streamlit as st\n",
    "import pandas as pd\n",
    "import matplotlib.pyplot as plt\n",
    "\n",
    "st.title(\"My Dashboard\")\n",
    "\n",
    "uploaded_file = st.file_uploader(\"Choose a CSV file\", type=\"csv\")\n",
    "\n",
    "if uploaded_file is not None:\n",
    "    df = pd.read_csv(uploaded_file)\n",
    "\n",
    "    st.subheader(\"Data Preview\")\n",
    "    st.write(df.head())\n",
    "\n",
    "    st.subheader(\"Data Summary\")\n",
    "    st.write(df.describe())\n",
    "\n",
    "    st.subheader(\"Filter Data\")\n",
    "    columns = df.columns.tolist()\n",
    "    selected_column = st.selectbox(\"Select column to filter by\", columns)\n",
    "    unique_values = df[selected_column].unique()\n",
    "    selected_value = st.selectbox(\"Select value\", unique_values)\n",
    "\n",
    "    filtered_df = df[df[selected_column] == selected_value]\n",
    "    st.write(filtered_df)\n",
    "\n",
    "    st.subheader(\"Plot Data\")\n",
    "    x_column = st.selectbox(\"Select X-axis column\", columns)\n",
    "    y_column = st.selectbox(\"Select Y-axis column\", columns)\n",
    "\n",
    "    if st.button(\"Generate Plot\"):  # Fixed typo\n",
    "        # Ensure Y-column is numeric\n",
    "        if pd.api.types.is_numeric_dtype(df[y_column]):\n",
    "            st.line_chart(filtered_df.set_index(x_column)[y_column])\n",
    "        else:\n",
    "            st.error(\"Selected Y-axis column must be numeric for plotting.\")\n",
    "else:\n",
    "    st.write(\"Waiting for file upload...\")\n"
   ]
  }
 ],
 "metadata": {
  "kernelspec": {
   "display_name": "Python 3",
   "language": "python",
   "name": "python3"
  },
  "language_info": {
   "codemirror_mode": {
    "name": "ipython",
    "version": 3
   },
   "file_extension": ".py",
   "mimetype": "text/x-python",
   "name": "python",
   "nbconvert_exporter": "python",
   "pygments_lexer": "ipython3",
   "version": "3.13.2"
  }
 },
 "nbformat": 4,
 "nbformat_minor": 2
}
