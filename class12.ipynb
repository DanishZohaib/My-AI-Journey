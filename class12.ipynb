{
 "cells": [
  {
   "cell_type": "markdown",
   "metadata": {},
   "source": [
    "Class 12 Date 09.03.2025 1st Ramadan"
   ]
  },
  {
   "cell_type": "code",
   "execution_count": null,
   "metadata": {},
   "outputs": [],
   "source": [
    "# using google colab\n",
    "#next class me opp parhaengy.\n",
    "#1. is vs ==\n",
    "#2. Generators\n",
    "#3. List Comprehansion"
   ]
  },
  {
   "cell_type": "code",
   "execution_count": null,
   "metadata": {},
   "outputs": [
    {
     "name": "stdout",
     "output_type": "stream",
     "text": [
      "True\n",
      "False\n"
     ]
    }
   ],
   "source": [
    "list1 = [1,2,3,4,5]\n",
    "list2 = [1,2,3,4,5]\n",
    "\n",
    "print(list1 == list2) # == list ki value ko compair karta hy\n",
    "print(list1 is list2) # is list k reference memory location ko check karta hy"
   ]
  },
  {
   "cell_type": "code",
   "execution_count": null,
   "metadata": {},
   "outputs": [
    {
     "name": "stdout",
     "output_type": "stream",
     "text": [
      "True\n",
      "True\n",
      "False\n"
     ]
    }
   ],
   "source": [
    "list1 = \"Aneeq\"\n",
    "list2 = \"Aneeq\"\n",
    "list3 = \"Hello how are you? I am fine.\"\n",
    "list4 = \"Hello how are you? I am fine.\"\n",
    "\n",
    "print(list1 == list2) \n",
    "print(list1 is list2) # small string ko same memory location me save karta hy\n",
    "print(list3 is list4) # long string ko different memory location pe save karta hy"
   ]
  },
  {
   "cell_type": "code",
   "execution_count": 5,
   "metadata": {},
   "outputs": [
    {
     "name": "stdout",
     "output_type": "stream",
     "text": [
      "True\n"
     ]
    }
   ],
   "source": [
    "bool1 = True\n",
    "bool2 = True\n",
    "\n",
    "print(bool1 is bool2)"
   ]
  },
  {
   "cell_type": "code",
   "execution_count": null,
   "metadata": {},
   "outputs": [
    {
     "name": "stdout",
     "output_type": "stream",
     "text": [
      "list2 is [1, 2, 3, 4, 5, 6]\n"
     ]
    }
   ],
   "source": [
    "list1 = [1,2,3,4,5]  #update by append\n",
    "list2 = list1\n",
    "# list1.append(6)\n",
    "\n",
    "\n",
    "print(\"list2 is\",list2)"
   ]
  },
  {
   "cell_type": "markdown",
   "metadata": {},
   "source": [
    "Muteable : pass by reference\n",
    "Immuteable: pass by valu"
   ]
  },
  {
   "cell_type": "code",
   "execution_count": null,
   "metadata": {},
   "outputs": [
    {
     "name": "stdout",
     "output_type": "stream",
     "text": [
      "num>>> 0\n",
      "sqr_num>>> 0\n",
      "num>>> 1\n",
      "sqr_num>>> 1\n",
      "num>>> 2\n",
      "sqr_num>>> 4\n",
      "num>>> 3\n",
      "sqr_num>>> 9\n",
      "num>>> 4\n",
      "sqr_num>>> 16\n",
      "[0, 1, 4, 9, 16]\n"
     ]
    }
   ],
   "source": [
    "#Aam Zindgi\n",
    "sqr_list =[]\n",
    "def get_sqr_list(n: int):\n",
    "    for num in range(0,n):\n",
    "        print(\"num>>>\", num)\n",
    "        sqr_num = num*num\n",
    "        print(\"sqr_num>>>\",sqr_num)\n",
    "        sqr_list.append(sqr_num)\n",
    "        \n",
    "get_sqr_list(5)\n",
    "print(sqr_list)\n"
   ]
  },
  {
   "cell_type": "code",
   "execution_count": 13,
   "metadata": {},
   "outputs": [
    {
     "name": "stdout",
     "output_type": "stream",
     "text": [
      "sqr_list>>>> [0, 1, 4, 9, 16]\n"
     ]
    }
   ],
   "source": [
    "sqr_list = [num * num for num in range(5)]\n",
    "print(\"sqr_list>>>>\",sqr_list)"
   ]
  },
  {
   "cell_type": "code",
   "execution_count": null,
   "metadata": {},
   "outputs": [],
   "source": [
    "#Generators\n",
    "# run time pe value ko generate karty hen one by one\n"
   ]
  }
 ],
 "metadata": {
  "kernelspec": {
   "display_name": "Python 3",
   "language": "python",
   "name": "python3"
  },
  "language_info": {
   "codemirror_mode": {
    "name": "ipython",
    "version": 3
   },
   "file_extension": ".py",
   "mimetype": "text/x-python",
   "name": "python",
   "nbconvert_exporter": "python",
   "pygments_lexer": "ipython3",
   "version": "3.13.2"
  }
 },
 "nbformat": 4,
 "nbformat_minor": 2
}
