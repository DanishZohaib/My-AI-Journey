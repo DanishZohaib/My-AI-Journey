{
 "cells": [
  {
   "cell_type": "code",
   "execution_count": 15,
   "metadata": {},
   "outputs": [
    {
     "name": "stdout",
     "output_type": "stream",
     "text": [
      "My name is Danish Zohaib. I am a beginner in AI. \n",
      "Currently I am learning from GIAIC at Governor House Karachi. \n",
      "Sir Aneeq Khatri is teaching me very well.\n"
     ]
    }
   ],
   "source": [
    "# 1. Madlibs\n",
    "name = input(\"Enter your name here: \")\n",
    "institute_name = input(\"Enter your institute name here: \")\n",
    "course_name = input(\"Enter your course_name here: \")\n",
    "teacher_name = input(\"Enter your teacher_name here: \")\n",
    "\n",
    "madlibs = f\"My name is {name}. I am a beginner in {course_name}. \\n\" \\\n",
    "f\"Currently I am learning from {institute_name} at Governor House Karachi. \\n\" \\\n",
    "f\"Sir {teacher_name} is teaching me very well.\"\n",
    "\n",
    "\n",
    "print(madlibs)\n"
   ]
  },
  {
   "cell_type": "code",
   "execution_count": 31,
   "metadata": {},
   "outputs": [
    {
     "name": "stdout",
     "output_type": "stream",
     "text": [
      "Too high. Enter a low number\n",
      "Too high. Enter a low number\n",
      "Too high. Enter a low number\n",
      "Yes you guess the number 2 correctly.\n"
     ]
    }
   ],
   "source": [
    "import random\n",
    "\n",
    "x = 20\n",
    "random_number = random.randint(1,x)\n",
    "# print(random_number)\n",
    "guess = 0\n",
    "\n",
    "while guess != random_number:\n",
    "    guess = int(input(\"Guess a number between 1 - 20 | \"))\n",
    "    if guess < random_number:\n",
    "        print(\"Too low. Enter a higher number\")\n",
    "    elif guess > random_number:\n",
    "        print(\"Too high. Enter a low number\")\n",
    "print(f\"Yes you guess the number {random_number} correctly.\")\n"
   ]
  },
  {
   "cell_type": "code",
   "execution_count": 1,
   "metadata": {},
   "outputs": [
    {
     "name": "stdout",
     "output_type": "stream",
     "text": [
      "Table of 2\n",
      "2 x 1 = 2\n",
      "2 x 2 = 4\n",
      "2 x 3 = 6\n",
      "2 x 4 = 8\n",
      "2 x 5 = 10\n",
      "2 x 6 = 12\n",
      "2 x 7 = 14\n",
      "2 x 8 = 16\n",
      "2 x 9 = 18\n",
      "2 x 10 = 20\n"
     ]
    }
   ],
   "source": [
    "# Creating Table using loop\n",
    "print(\"Table of 2\")\n",
    "for i in range(1,11):\n",
    "  print(f\"2 x {i} = {2*i}\")"
   ]
  },
  {
   "cell_type": "code",
   "execution_count": 3,
   "metadata": {},
   "outputs": [
    {
     "name": "stdout",
     "output_type": "stream",
     "text": [
      "My name is Muhammad Danish Zohaib. I am a student of GIAIC. I am learning Python Programming. My teacher name is Aneeq Khatri he is very brilliant and punctual.\n"
     ]
    }
   ],
   "source": [
    "name:str = input(\"Enter Your Full Name Here :\")\n",
    "institute_name:str = input(\"Enter Your Institute Name Here :\")\n",
    "course_name:str = input(\"Enter Your Course Name Here :\")\n",
    "teacher_name:str = input(\"Enter Your Teacher Name Here :\")\n",
    "\n",
    "\n",
    "\n",
    "print(f\"My name is {name}. I am a student of {institute_name}. I am learning {course_name}. My teacher name is {teacher_name} he is very brilliant and punctual.\")"
   ]
  }
 ],
 "metadata": {
  "kernelspec": {
   "display_name": "Python 3",
   "language": "python",
   "name": "python3"
  },
  "language_info": {
   "codemirror_mode": {
    "name": "ipython",
    "version": 3
   },
   "file_extension": ".py",
   "mimetype": "text/x-python",
   "name": "python",
   "nbconvert_exporter": "python",
   "pygments_lexer": "ipython3",
   "version": "3.13.2"
  }
 },
 "nbformat": 4,
 "nbformat_minor": 2
}
