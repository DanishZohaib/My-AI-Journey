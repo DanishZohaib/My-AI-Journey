{
 "cells": [
  {
   "cell_type": "code",
   "execution_count": 15,
   "metadata": {},
   "outputs": [
    {
     "name": "stdout",
     "output_type": "stream",
     "text": [
      "My name is Danish Zohaib. I am a beginner in AI. \n",
      "Currently I am learning from GIAIC at Governor House Karachi. \n",
      "Sir Aneeq Khatri is teaching me very well.\n"
     ]
    }
   ],
   "source": [
    "# 1. Madlibs\n",
    "name = input(\"Enter your name here: \")\n",
    "institute_name = input(\"Enter your institute name here: \")\n",
    "course_name = input(\"Enter your course_name here: \")\n",
    "teacher_name = input(\"Enter your teacher_name here: \")\n",
    "\n",
    "madlibs = f\"My name is {name}. I am a beginner in {course_name}. \\n\" \\\n",
    "f\"Currently I am learning from {institute_name} at Governor House Karachi. \\n\" \\\n",
    "f\"Sir {teacher_name} is teaching me very well.\"\n",
    "\n",
    "\n",
    "print(madlibs)\n"
   ]
  }
 ],
 "metadata": {
  "kernelspec": {
   "display_name": "Python 3",
   "language": "python",
   "name": "python3"
  },
  "language_info": {
   "codemirror_mode": {
    "name": "ipython",
    "version": 3
   },
   "file_extension": ".py",
   "mimetype": "text/x-python",
   "name": "python",
   "nbconvert_exporter": "python",
   "pygments_lexer": "ipython3",
   "version": "3.13.2"
  }
 },
 "nbformat": 4,
 "nbformat_minor": 2
}
