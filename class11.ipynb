{
 "cells": [
  {
   "cell_type": "markdown",
   "metadata": {},
   "source": [
    "Class 11 Date 02.03.2025 1st Ramadan"
   ]
  },
  {
   "cell_type": "code",
   "execution_count": null,
   "metadata": {},
   "outputs": [],
   "source": [
    "# Recursive Functions / Recursion\n",
    "# ak esa functionn jisko ham usi function k andadr call karen\n",
    "def count_down():\n",
    "    count_down()\n",
    "\n",
    "count_down()"
   ]
  },
  {
   "cell_type": "code",
   "execution_count": null,
   "metadata": {},
   "outputs": [],
   "source": [
    "def count_down(num: int)->int:\n",
    "    if num ==0:  # or use <=\n",
    "        print(\"Count down Done\")\n",
    "    else:\n",
    "        print(\"num>>>\",num)\n",
    "        count_down(num-1)\n",
    "\n",
    "count_down(10)"
   ]
  },
  {
   "cell_type": "markdown",
   "metadata": {},
   "source": [
    "1. Assigment Factoral function banan hy by using Recursion."
   ]
  },
  {
   "cell_type": "markdown",
   "metadata": {},
   "source": [
    "Lambda Function"
   ]
  },
  {
   "cell_type": "code",
   "execution_count": null,
   "metadata": {},
   "outputs": [
    {
     "name": "stdout",
     "output_type": "stream",
     "text": [
      "result>>>> 11\n"
     ]
    }
   ],
   "source": [
    "# Aam Zingi\n",
    "def add(a:int,b:int)-> int:\n",
    "    return a+b\n",
    "\n",
    "result = add(5,6)\n",
    "print(\"result>>>>\",result)"
   ]
  },
  {
   "cell_type": "code",
   "execution_count": 5,
   "metadata": {},
   "outputs": [
    {
     "name": "stdout",
     "output_type": "stream",
     "text": [
      "11\n"
     ]
    }
   ],
   "source": [
    "# lambda parameters: expression / statement\n",
    "add = lambda a,b: a+b\n",
    "\n",
    "result = add(5,6)\n",
    "print(result)"
   ]
  },
  {
   "cell_type": "markdown",
   "metadata": {},
   "source": [
    "2. Assignment Isi trah square function ko lamba k zarye karna hy"
   ]
  },
  {
   "cell_type": "code",
   "execution_count": 9,
   "metadata": {},
   "outputs": [
    {
     "name": "stdout",
     "output_type": "stream",
     "text": [
      "Assigment Done and result is 25\n"
     ]
    }
   ],
   "source": [
    "sqare = lambda a: a*a\n",
    "\n",
    "result = sqare(5)\n",
    "print(\"Assigment Done and result is\",result)"
   ]
  },
  {
   "cell_type": "markdown",
   "metadata": {},
   "source": [
    "os module ( operating system)"
   ]
  },
  {
   "cell_type": "code",
   "execution_count": 16,
   "metadata": {},
   "outputs": [],
   "source": [
    "import os\n",
    "# print(\"cwd\", os.getcwd())\n",
    "# print(\"list dir\",os.listdir())\n",
    "# # print(\"new folder\",os.mkdir(\"test\"))\n",
    "# print(\"rename\",os.rename(\"test\",\"test lates\"))\n",
    "os.rmdir(\"DEMO\")"
   ]
  },
  {
   "cell_type": "markdown",
   "metadata": {},
   "source": [
    "Announcement\n",
    "Email will be received from admin with link for printing ID card.\n",
    "Next class bearing ID card in class."
   ]
  },
  {
   "cell_type": "markdown",
   "metadata": {},
   "source": [
    "Files I/O"
   ]
  },
  {
   "cell_type": "code",
   "execution_count": 22,
   "metadata": {},
   "outputs": [
    {
     "name": "stdout",
     "output_type": "stream",
     "text": [
      "Asalam o Alikum Ramadan Mubarak\n"
     ]
    }
   ],
   "source": [
    "file = open(\"file.txt\",\"r\")\n",
    "print(file.read())\n",
    "file.close()"
   ]
  },
  {
   "cell_type": "code",
   "execution_count": null,
   "metadata": {},
   "outputs": [],
   "source": [
    "file = open(\"text2.txt\",\"w\") # jo file w k sath karty hen uska data override ho jata hy.\n",
    "file.write(\"Hello how are you?\")\n",
    "file.close()"
   ]
  },
  {
   "cell_type": "code",
   "execution_count": null,
   "metadata": {},
   "outputs": [],
   "source": [
    "file = open(\"text2.txt\",\"a\") # jo file a (append) k sath karty hen uska data last se write ho jata hy.\n",
    "file.write(\"\\nI am fine\")  #2nd time run with next line\n",
    "file.close()"
   ]
  },
  {
   "cell_type": "code",
   "execution_count": 29,
   "metadata": {},
   "outputs": [],
   "source": [
    "with open(\"text2.txt\",\"a\") as f:\n",
    "    f.write(\"\\nkesa laga sir Aneeq ka mazak\")\n",
    "    "
   ]
  }
 ],
 "metadata": {
  "kernelspec": {
   "display_name": "Python 3",
   "language": "python",
   "name": "python3"
  },
  "language_info": {
   "codemirror_mode": {
    "name": "ipython",
    "version": 3
   },
   "file_extension": ".py",
   "mimetype": "text/x-python",
   "name": "python",
   "nbconvert_exporter": "python",
   "pygments_lexer": "ipython3",
   "version": "3.13.2"
  }
 },
 "nbformat": 4,
 "nbformat_minor": 2
}
